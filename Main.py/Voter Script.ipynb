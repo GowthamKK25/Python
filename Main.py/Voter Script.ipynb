{
 "cells": [
  {
   "cell_type": "code",
   "execution_count": 46,
   "metadata": {},
   "outputs": [
    {
     "name": "stdout",
     "output_type": "stream",
     "text": [
      "CSV Header: ['Voter ID', 'County', 'Candidate']\n",
      "Election Results\n",
      "Total Votes: 3521001\n",
      "Khan: 63% at 2218231 votes\n",
      "Correy: 20% at 704200 votes\n",
      "Li: 14% at 492940 votes\n",
      "O'Tooley: 3% at 105630 votes\n",
      "Winner: Khan\n"
     ]
    }
   ],
   "source": [
    "# Establishing path\n",
    "import os \n",
    "import csv\n",
    "\n",
    "pyvote = os.path.join(\"..\",\"Resources\",\"election_data.csv\")\n",
    "\n",
    "# To read file\n",
    "with open(pyvote, 'r') as csvfile:\n",
    "\n",
    "    csvreader = csv.reader(csvfile, delimiter=',')\n",
    "   \n",
    "    csv_header = next(csvreader)\n",
    "    print(f\"CSV Header: {csv_header}\")\n",
    "\n",
    "\n",
    "    votes = []\n",
    "    khan = []\n",
    "    Correy = [] \n",
    "    Li = [] \n",
    "    Tooley = []\n",
    "    \n",
    "#Loops    \n",
    "    for rows in csvreader:\n",
    "        votes.append(rows[0]) \n",
    "        \n",
    "        if rows[2] == \"Khan\":\n",
    "            khan.append(rows[2])\n",
    "        elif rows[2] == \"Correy\":\n",
    "            Correy.append(rows[2])\n",
    "        elif rows[2] == \"Li\":\n",
    "            Li.append(rows[2])\n",
    "        elif rows[2] == \"O'Tooley\":\n",
    "            Tooley.append(rows[2])\n",
    "        \n",
    "\n",
    "#Calculations        \n",
    "Totalvotes = (len(votes)) \n",
    "Khanvotes = (len(khan)) \n",
    "Correyvotes= (len(Correy)) \n",
    "Livotes= (len(Li)) \n",
    "Tooleyvotes = (len(Tooley)) \n",
    "\n",
    "Khanper = (Khanvotes/Totalvotes) * 100 \n",
    "Corper = (Correyvotes/Totalvotes) * 100 \n",
    "Liper = (Livotes/Totalvotes) * 100\n",
    "Toolper = (Tooleyvotes/Totalvotes) * 100 \n",
    "    \n",
    "#Print Statements    \n",
    "print(f'Election Results')\n",
    "    \n",
    "print(f'Total Votes: {Totalvotes}')\n",
    "print(f'Khan: {int(Khanper)}% at {Khanvotes} votes')\n",
    "print(f'Correy: {round(Corper)}% at {Correyvotes} votes')\n",
    "print(f'Li: {round(Liper)}% at {Livotes} votes')\n",
    "print(f\"O'Tooley: {round(Toolper)}% at {Tooleyvotes} votes\")\n",
    "\n",
    "#To find winner\n",
    "if Khanvotes > Correyvotes and Livotes and Tooleyvotes: \n",
    "        print(\"Winner: Khan\") \n",
    "elif Correyvotes > Khanvotes and Livotes and Tooleyvotes: \n",
    "        print(\"Winner: Correy\")\n",
    "elif Livotes > Khanvotes and Correyvotes and Tooleyvotes: \n",
    "        print(\"Winner: Li\")\n",
    "elif Tooleyvotes > Khanvotes and Correyvotes and Livotes:  \n",
    "        print(\"Winner: O'Tooley\")"
   ]
  },
  {
   "cell_type": "code",
   "execution_count": 53,
   "metadata": {},
   "outputs": [],
   "source": [
    "#Establishing path\n",
    "output_path = os.path.join(\"..\", \"Analysis\", \"VoterAnalysis.txt\") "
   ]
  },
  {
   "cell_type": "code",
   "execution_count": 60,
   "metadata": {},
   "outputs": [],
   "source": [
    "#Creating Txt File\n",
    "with open(output_path, \"w\") as file:\n",
    "    file.write(\"Election Results\" + \"\\n\")\n",
    "    file.write(\"Total Votes: 3521002\" + \"\\n\")         \n",
    "    file.write(\"Khan: 63% at 2218231 votes\" + \"\\n\")      \n",
    "    file.write(\"Li: 14% at 492940 votes\" + \"\\n\")      \n",
    "    file.write(\"O'Tooley: 3% at 105630 votes\" + \"\\n\")       \n",
    "    file.write(\"Winner: Khan\" + \"\\n\")  "
   ]
  },
  {
   "cell_type": "code",
   "execution_count": 50,
   "metadata": {},
   "outputs": [],
   "source": [
    "    "
   ]
  },
  {
   "cell_type": "code",
   "execution_count": null,
   "metadata": {},
   "outputs": [],
   "source": []
  }
 ],
 "metadata": {
  "kernelspec": {
   "display_name": "Python 3",
   "language": "python",
   "name": "python3"
  },
  "language_info": {
   "codemirror_mode": {
    "name": "ipython",
    "version": 3
   },
   "file_extension": ".py",
   "mimetype": "text/x-python",
   "name": "python",
   "nbconvert_exporter": "python",
   "pygments_lexer": "ipython3",
   "version": "3.8.3"
  }
 },
 "nbformat": 4,
 "nbformat_minor": 4
}
