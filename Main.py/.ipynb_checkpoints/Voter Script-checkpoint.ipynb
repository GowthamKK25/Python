{
 "cells": [
  {
   "cell_type": "code",
   "execution_count": 43,
   "metadata": {},
   "outputs": [
    {
     "name": "stdout",
     "output_type": "stream",
     "text": [
      "Election Results\n",
      "Total Votes: 3521002\n",
      "Khan: 62% at 2218231 votes\n",
      "Correy: 20% at 704200 votes\n",
      "Li: 14% at 492940 votes\n",
      "O'Tooley: 3% at 105630 votes\n",
      "Winner: Khan\n"
     ]
    }
   ],
   "source": [
    "import os \n",
    "import csv\n",
    "\n",
    "pyvote = os.path.join(\"..\",\"Resources\",\"election_data.csv\")\n",
    "\n",
    "\n",
    "with open(pyvote, 'r') as csvfile:\n",
    "\n",
    "    csvreader = csv.reader(csvfile, delimiter=',')\n",
    "   \n",
    "    votes = []\n",
    "    khan = []\n",
    "    Correy = [] \n",
    "    Li = [] \n",
    "    Tooley = []\n",
    "    \n",
    "    \n",
    "    for rows in csvreader:\n",
    "        votes.append(rows[0]) \n",
    "        \n",
    "        if rows[2] == \"Khan\":\n",
    "            khan.append(rows[2])\n",
    "        elif rows[2] == \"Correy\":\n",
    "            Correy.append(rows[2])\n",
    "        elif rows[2] == \"Li\":\n",
    "            Li.append(rows[2])\n",
    "        elif rows[2] == \"O'Tooley\":\n",
    "            Tooley.append(rows[2])\n",
    "        \n",
    "\n",
    "        \n",
    "Totalvotes = (len(votes)) \n",
    "Khanvotes = (len(khan)) \n",
    "Correyvotes= (len(Correy)) \n",
    "Livotes= (len(Li)) \n",
    "Tooleyvotes = (len(Tooley)) \n",
    "\n",
    "Khanper = (Khanvotes/Totalvotes) * 100 \n",
    "Corper = (Correyvotes/Totalvotes) * 100 \n",
    "Liper = (Livotes/Totalvotes) * 100\n",
    "Toolper = (Tooleyvotes/Totalvotes) * 100 \n",
    "    \n",
    "    \n",
    "print(f'Election Results')\n",
    "    \n",
    "print(f'Total Votes: {Totalvotes}')\n",
    "print(f'Khan: {int(Khanper)}% at {Khanvotes} votes')\n",
    "print(f'Correy: {round(Corper)}% at {Correyvotes} votes')\n",
    "print(f'Li: {round(Liper)}% at {Livotes} votes')\n",
    "print(f\"O'Tooley: {round(Toolper)}% at {Tooleyvotes} votes\")\n",
    "\n",
    "\n",
    "if Khanvotes > Correyvotes and Livotes and Tooleyvotes: \n",
    "        print(\"Winner: Khan\") \n",
    "elif Correyvotes > Khanvotes and Livotes and Tooleyvotes: \n",
    "        print(\"Winner: Correy\")\n",
    "elif Livotes > Khanvotes and Correyvotes and Tooleyvotes: \n",
    "        print(\"Winner: Li\")\n",
    "elif Tooleyvotes > Khanvotes and Correyvotes and Livotes:  \n",
    "        print(\"Winner: O'Tooley\")"
   ]
  },
  {
   "cell_type": "code",
   "execution_count": 44,
   "metadata": {},
   "outputs": [],
   "source": [
    "output_path = os.path.join(\"..\", \"Analysis\", \"VoterAnalysis.csv\") "
   ]
  },
  {
   "cell_type": "code",
   "execution_count": null,
   "metadata": {},
   "outputs": [],
   "source": [
    "with open(output_path, 'w', newline='') as csvfile:\n",
    "\n",
    "    \n",
    "    csvwriter = csv.writer(csvfile, delimiter=\",\")\n",
    "\n",
    "   \n",
    "    csvwriter.writerow([\"The total amount of months is 86\"])\n",
    "    csvwriter.writerow([\"The total profit and losses is $38382578\"])\n",
    "    csvwriter.writerow([\"The average profit change is $-2315\"])\n",
    "    csvwriter.writerow([\"Greatest increase is Feb-2012 $1926159\"])\n",
    "    csvwriter.writerow([\"Greatest decrease is Sep-2013 $-2196167\"])\n"
   ]
  }
 ],
 "metadata": {
  "kernelspec": {
   "display_name": "Python 3",
   "language": "python",
   "name": "python3"
  },
  "language_info": {
   "codemirror_mode": {
    "name": "ipython",
    "version": 3
   },
   "file_extension": ".py",
   "mimetype": "text/x-python",
   "name": "python",
   "nbconvert_exporter": "python",
   "pygments_lexer": "ipython3",
   "version": "3.8.3"
  }
 },
 "nbformat": 4,
 "nbformat_minor": 4
}
